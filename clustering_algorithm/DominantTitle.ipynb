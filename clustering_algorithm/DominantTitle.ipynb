{
 "cells": [
  {
   "cell_type": "code",
   "execution_count": 20,
   "id": "a70e4a62-7d55-4dce-9c8c-eb1e77a016cb",
   "metadata": {},
   "outputs": [
    {
     "name": "stdout",
     "output_type": "stream",
     "text": [
      "                full_name                  topic\n",
      "2             Aman Shakya         neural network\n",
      "3         Anand Kumar Sah   network and security\n",
      "6    Arun Kumar Timalsina         neural network\n",
      "7          Babu R. Dawadi  ioe news and bulletin\n",
      "12          Basanta Joshi         neural network\n",
      "14       Daya Sagar Baral   network and security\n",
      "18       Dibakar Raj Pant         neural network\n",
      "20  Nanda Bikram Adhikari   network and security\n",
      "24  Sanjeeb Prasad Panday         neural network\n",
      "26        Sanjivan Satyal   network and security\n",
      "28           Santosh Giri   network and security\n",
      "32   Sharad Kumar Ghimire         neural network\n",
      "33   Shashidhar Ram Joshi  ioe news and bulletin\n",
      "38         Subarna Shakya         neural network\n",
      "39           Suman Sharma  ioe news and bulletin\n",
      "42      Surendra Shrestha   network and security\n"
     ]
    }
   ],
   "source": [
    "import pandas as pd\n",
    "from sklearn.feature_extraction.text import CountVectorizer\n",
    "from sklearn.decomposition import LatentDirichletAllocation\n",
    "\n",
    "# Load the dataset\n",
    "df = pd.read_csv('1-27PM.csv')\n",
    "\n",
    "# Vectorize the publication titles\n",
    "vectorizer = CountVectorizer(stop_words='english')\n",
    "X = vectorizer.fit_transform(df['title'])\n",
    "\n",
    "# Apply LDA to the publication titles\n",
    "lda = LatentDirichletAllocation(n_components=3, random_state=42)\n",
    "lda.fit(X)\n",
    "\n",
    "# Get the topics for each publication\n",
    "topics = lda.transform(X)\n",
    "df['topic'] = topics.argmax(axis=1)\n",
    "\n",
    "# Define the topic names\n",
    "topic_names = { 0: \"ioe news and bulletin\",\n",
    "                1:\" network and security\",\n",
    "                2: \"neural network\",\n",
    "              }\n",
    "# Group authors by topic\n",
    "grouped = df.groupby(['full_name', 'topic']).size().reset_index(name='count')\n",
    "\n",
    "# Get the dominant topic for each author\n",
    "dominant = grouped.loc[grouped.groupby('full_name')['count'].idxmax()]\n",
    "dominant['topic'] = dominant['topic'].apply(lambda x: topic_names[x])\n",
    "\n",
    "# Print the results\n",
    "print(dominant[['full_name', 'topic']])\n"
   ]
  },
  {
   "cell_type": "code",
   "execution_count": 21,
   "id": "c243d62c-ae0d-4b3c-b23f-1707cbc8b4c7",
   "metadata": {},
   "outputs": [],
   "source": [
    "dominant.to_csv('dominant.csv')"
   ]
  },
  {
   "cell_type": "code",
   "execution_count": null,
   "id": "1f3e8d5a-0cac-47e5-ab7d-7add8e9b77e2",
   "metadata": {},
   "outputs": [],
   "source": []
  }
 ],
 "metadata": {
  "kernelspec": {
   "display_name": "Python 3 (ipykernel)",
   "language": "python",
   "name": "python3"
  },
  "language_info": {
   "codemirror_mode": {
    "name": "ipython",
    "version": 3
   },
   "file_extension": ".py",
   "mimetype": "text/x-python",
   "name": "python",
   "nbconvert_exporter": "python",
   "pygments_lexer": "ipython3",
   "version": "3.9.9"
  }
 },
 "nbformat": 4,
 "nbformat_minor": 5
}
