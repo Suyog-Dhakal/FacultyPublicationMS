{
 "cells": [
  {
   "cell_type": "code",
   "execution_count": 343,
   "id": "e4ba1ce0-eace-493d-a0fa-4b4bc5dab78b",
   "metadata": {},
   "outputs": [],
   "source": [
    "# import the dataset from sklearn\n",
    "from sklearn.feature_extraction.text import TfidfVectorizer\n",
    "from sklearn.cluster import KMeans\n",
    "from sklearn.decomposition import PCA\n",
    "\n",
    "# import other required libs\n",
    "import pandas as pd\n",
    "import numpy as np\n",
    "\n",
    "# string manipulation libs\n",
    "import re\n",
    "import string\n",
    "import nltk\n",
    "from nltk.corpus import stopwords\n",
    "\n",
    "# viz libs\n",
    "import matplotlib.pyplot as plt\n",
    "import seaborn as sns"
   ]
  },
  {
   "cell_type": "code",
   "execution_count": 344,
   "id": "f273f168-6a42-4af1-b10b-75b92b8720cd",
   "metadata": {},
   "outputs": [],
   "source": [
    "df = pd.read_csv('1-27PM.csv',encoding='utf-8')"
   ]
  },
  {
   "cell_type": "code",
   "execution_count": 345,
   "id": "a7163881-9296-4379-9f9b-d8ac4c6c8f25",
   "metadata": {},
   "outputs": [
    {
     "data": {
      "text/html": [
       "<div>\n",
       "<style scoped>\n",
       "    .dataframe tbody tr th:only-of-type {\n",
       "        vertical-align: middle;\n",
       "    }\n",
       "\n",
       "    .dataframe tbody tr th {\n",
       "        vertical-align: top;\n",
       "    }\n",
       "\n",
       "    .dataframe thead th {\n",
       "        text-align: right;\n",
       "    }\n",
       "</style>\n",
       "<table border=\"1\" class=\"dataframe\">\n",
       "  <thead>\n",
       "    <tr style=\"text-align: right;\">\n",
       "      <th></th>\n",
       "      <th>title</th>\n",
       "      <th>full_name</th>\n",
       "    </tr>\n",
       "  </thead>\n",
       "  <tbody>\n",
       "    <tr>\n",
       "      <th>0</th>\n",
       "      <td>Improved Salient Object Extraction using Struc...</td>\n",
       "      <td>Sharad Kumar Ghimire</td>\n",
       "    </tr>\n",
       "    <tr>\n",
       "      <th>1</th>\n",
       "      <td>Performance Analysis of LTE-Advanced Mobile Re...</td>\n",
       "      <td>Sharad Kumar Ghimire</td>\n",
       "    </tr>\n",
       "    <tr>\n",
       "      <th>2</th>\n",
       "      <td>Analysis and Optimization of Magnetic Resonant...</td>\n",
       "      <td>Sharad Kumar Ghimire</td>\n",
       "    </tr>\n",
       "    <tr>\n",
       "      <th>3</th>\n",
       "      <td>Comparative Analysis of Cell Balancing Topolog...</td>\n",
       "      <td>Sharad Kumar Ghimire</td>\n",
       "    </tr>\n",
       "    <tr>\n",
       "      <th>4</th>\n",
       "      <td>GAN-Based Two-Step Pipeline for Real-World Ima...</td>\n",
       "      <td>Sharad Kumar Ghimire</td>\n",
       "    </tr>\n",
       "  </tbody>\n",
       "</table>\n",
       "</div>"
      ],
      "text/plain": [
       "                                               title             full_name\n",
       "0  Improved Salient Object Extraction using Struc...  Sharad Kumar Ghimire\n",
       "1  Performance Analysis of LTE-Advanced Mobile Re...  Sharad Kumar Ghimire\n",
       "2  Analysis and Optimization of Magnetic Resonant...  Sharad Kumar Ghimire\n",
       "3  Comparative Analysis of Cell Balancing Topolog...  Sharad Kumar Ghimire\n",
       "4  GAN-Based Two-Step Pipeline for Real-World Ima...  Sharad Kumar Ghimire"
      ]
     },
     "execution_count": 345,
     "metadata": {},
     "output_type": "execute_result"
    }
   ],
   "source": [
    "df.head()"
   ]
  },
  {
   "cell_type": "code",
   "execution_count": 346,
   "id": "528e24c3-6d8b-4d70-ac6b-6aee9ff9eba6",
   "metadata": {},
   "outputs": [],
   "source": [
    "#preprocessing"
   ]
  },
  {
   "cell_type": "code",
   "execution_count": 347,
   "id": "86f423e2-e1d9-4fe1-923e-947ac87533c4",
   "metadata": {},
   "outputs": [],
   "source": [
    "df = df.drop('full_name', axis=1)"
   ]
  },
  {
   "cell_type": "code",
   "execution_count": 348,
   "id": "21ecadf3-c94c-4025-af50-645a5103dd51",
   "metadata": {},
   "outputs": [
    {
     "data": {
      "text/html": [
       "<div>\n",
       "<style scoped>\n",
       "    .dataframe tbody tr th:only-of-type {\n",
       "        vertical-align: middle;\n",
       "    }\n",
       "\n",
       "    .dataframe tbody tr th {\n",
       "        vertical-align: top;\n",
       "    }\n",
       "\n",
       "    .dataframe thead th {\n",
       "        text-align: right;\n",
       "    }\n",
       "</style>\n",
       "<table border=\"1\" class=\"dataframe\">\n",
       "  <thead>\n",
       "    <tr style=\"text-align: right;\">\n",
       "      <th></th>\n",
       "      <th>title</th>\n",
       "    </tr>\n",
       "  </thead>\n",
       "  <tbody>\n",
       "    <tr>\n",
       "      <th>0</th>\n",
       "      <td>Improved Salient Object Extraction using Struc...</td>\n",
       "    </tr>\n",
       "    <tr>\n",
       "      <th>1</th>\n",
       "      <td>Performance Analysis of LTE-Advanced Mobile Re...</td>\n",
       "    </tr>\n",
       "    <tr>\n",
       "      <th>2</th>\n",
       "      <td>Analysis and Optimization of Magnetic Resonant...</td>\n",
       "    </tr>\n",
       "    <tr>\n",
       "      <th>3</th>\n",
       "      <td>Comparative Analysis of Cell Balancing Topolog...</td>\n",
       "    </tr>\n",
       "    <tr>\n",
       "      <th>4</th>\n",
       "      <td>GAN-Based Two-Step Pipeline for Real-World Ima...</td>\n",
       "    </tr>\n",
       "  </tbody>\n",
       "</table>\n",
       "</div>"
      ],
      "text/plain": [
       "                                               title\n",
       "0  Improved Salient Object Extraction using Struc...\n",
       "1  Performance Analysis of LTE-Advanced Mobile Re...\n",
       "2  Analysis and Optimization of Magnetic Resonant...\n",
       "3  Comparative Analysis of Cell Balancing Topolog...\n",
       "4  GAN-Based Two-Step Pipeline for Real-World Ima..."
      ]
     },
     "execution_count": 348,
     "metadata": {},
     "output_type": "execute_result"
    }
   ],
   "source": [
    "df.head()"
   ]
  },
  {
   "cell_type": "code",
   "execution_count": 349,
   "id": "6049e338-ceb5-4d61-bb92-ac14271ea100",
   "metadata": {},
   "outputs": [],
   "source": [
    "def preprocess_text(text: str, remove_stopwords: bool) -> str:\n",
    "\n",
    "    # remove links\n",
    "    text = re.sub(r\"http\\S+\", \"\", text)\n",
    "    # remove special chars and numbers\n",
    "    text = re.sub(\"[^A-Za-z]+\", \" \", text)\n",
    "    # remove stopwords\n",
    "    if remove_stopwords:\n",
    "        # 1. tokenize\n",
    "        tokens = nltk.word_tokenize(text)\n",
    "        # 2. check if stopword\n",
    "        tokens = [w for w in tokens if not w.lower() in stopwords.words(\"english\")]\n",
    "        # 3. join back together\n",
    "        text = \" \".join(tokens)\n",
    "    # return text in lower case and stripped of whitespaces\n",
    "    text = text.lower().strip()\n",
    "    return text"
   ]
  },
  {
   "cell_type": "code",
   "execution_count": 350,
   "id": "bc113c6f-5a69-49c5-b3ce-1dd4f966dffa",
   "metadata": {},
   "outputs": [],
   "source": [
    "df['cleaned'] = df['title'].apply(lambda x: preprocess_text(x, remove_stopwords=True))"
   ]
  },
  {
   "cell_type": "code",
   "execution_count": 351,
   "id": "38a93241-ed8d-4f33-b35f-faa8c343079e",
   "metadata": {},
   "outputs": [
    {
     "data": {
      "text/html": [
       "<div>\n",
       "<style scoped>\n",
       "    .dataframe tbody tr th:only-of-type {\n",
       "        vertical-align: middle;\n",
       "    }\n",
       "\n",
       "    .dataframe tbody tr th {\n",
       "        vertical-align: top;\n",
       "    }\n",
       "\n",
       "    .dataframe thead th {\n",
       "        text-align: right;\n",
       "    }\n",
       "</style>\n",
       "<table border=\"1\" class=\"dataframe\">\n",
       "  <thead>\n",
       "    <tr style=\"text-align: right;\">\n",
       "      <th></th>\n",
       "      <th>title</th>\n",
       "      <th>cleaned</th>\n",
       "    </tr>\n",
       "  </thead>\n",
       "  <tbody>\n",
       "    <tr>\n",
       "      <th>0</th>\n",
       "      <td>Improved Salient Object Extraction using Struc...</td>\n",
       "      <td>improved salient object extraction using struc...</td>\n",
       "    </tr>\n",
       "    <tr>\n",
       "      <th>1</th>\n",
       "      <td>Performance Analysis of LTE-Advanced Mobile Re...</td>\n",
       "      <td>performance analysis lte advanced mobile relay...</td>\n",
       "    </tr>\n",
       "    <tr>\n",
       "      <th>2</th>\n",
       "      <td>Analysis and Optimization of Magnetic Resonant...</td>\n",
       "      <td>analysis optimization magnetic resonant wirele...</td>\n",
       "    </tr>\n",
       "    <tr>\n",
       "      <th>3</th>\n",
       "      <td>Comparative Analysis of Cell Balancing Topolog...</td>\n",
       "      <td>comparative analysis cell balancing topologies...</td>\n",
       "    </tr>\n",
       "    <tr>\n",
       "      <th>4</th>\n",
       "      <td>GAN-Based Two-Step Pipeline for Real-World Ima...</td>\n",
       "      <td>gan based two step pipeline real world image s...</td>\n",
       "    </tr>\n",
       "  </tbody>\n",
       "</table>\n",
       "</div>"
      ],
      "text/plain": [
       "                                               title  \\\n",
       "0  Improved Salient Object Extraction using Struc...   \n",
       "1  Performance Analysis of LTE-Advanced Mobile Re...   \n",
       "2  Analysis and Optimization of Magnetic Resonant...   \n",
       "3  Comparative Analysis of Cell Balancing Topolog...   \n",
       "4  GAN-Based Two-Step Pipeline for Real-World Ima...   \n",
       "\n",
       "                                             cleaned  \n",
       "0  improved salient object extraction using struc...  \n",
       "1  performance analysis lte advanced mobile relay...  \n",
       "2  analysis optimization magnetic resonant wirele...  \n",
       "3  comparative analysis cell balancing topologies...  \n",
       "4  gan based two step pipeline real world image s...  "
      ]
     },
     "execution_count": 351,
     "metadata": {},
     "output_type": "execute_result"
    }
   ],
   "source": [
    "df.head()"
   ]
  },
  {
   "cell_type": "code",
   "execution_count": 352,
   "id": "c40eac95-384c-42fb-b2c4-3becee4e0309",
   "metadata": {},
   "outputs": [],
   "source": [
    "#tf-idf vectorization"
   ]
  },
  {
   "cell_type": "code",
   "execution_count": 353,
   "id": "5bf100c6-9cb2-4f8b-a6d6-8544bcf2826a",
   "metadata": {},
   "outputs": [],
   "source": [
    "# initialize the vectorizer\n",
    "vectorizer = TfidfVectorizer(sublinear_tf=True, min_df=5, max_df=0.95)\n",
    "# fit_transform applies TF-IDF to clean texts - we save the array of vectors in X\n",
    "X = vectorizer.fit_transform(df['cleaned'])"
   ]
  },
  {
   "cell_type": "code",
   "execution_count": 354,
   "id": "d32085f9-c59b-42c2-b119-2f73c8e46668",
   "metadata": {},
   "outputs": [
    {
     "data": {
      "text/plain": [
       "array([[0.        , 0.        , 0.        , ..., 0.        , 0.        ,\n",
       "        0.        ],\n",
       "       [0.        , 0.53659682, 0.        , ..., 0.        , 0.        ,\n",
       "        0.        ],\n",
       "       [0.        , 0.        , 0.        , ..., 0.        , 0.42668254,\n",
       "        0.        ],\n",
       "       ...,\n",
       "       [0.        , 0.        , 0.        , ..., 0.        , 0.        ,\n",
       "        0.        ],\n",
       "       [0.        , 0.        , 0.        , ..., 0.        , 0.        ,\n",
       "        0.        ],\n",
       "       [0.        , 0.        , 0.        , ..., 0.        , 0.        ,\n",
       "        0.        ]])"
      ]
     },
     "execution_count": 354,
     "metadata": {},
     "output_type": "execute_result"
    }
   ],
   "source": [
    "X.toarray() #vector representation of the sparse matrix"
   ]
  },
  {
   "cell_type": "code",
   "execution_count": 355,
   "id": "59b2fb64-1ce2-4531-9446-4d37e5403c44",
   "metadata": {},
   "outputs": [],
   "source": [
    "# implementation of KMeans"
   ]
  },
  {
   "cell_type": "code",
   "execution_count": 356,
   "id": "8f252fd3-578a-4ddd-8497-dfcea9706d4f",
   "metadata": {},
   "outputs": [
    {
     "name": "stderr",
     "output_type": "stream",
     "text": [
      "C:\\Users\\suyog\\AppData\\Local\\Programs\\Python\\Python39\\lib\\site-packages\\sklearn\\cluster\\_kmeans.py:870: FutureWarning: The default value of `n_init` will change from 10 to 'auto' in 1.4. Set the value of `n_init` explicitly to suppress the warning\n",
      "  warnings.warn(\n"
     ]
    }
   ],
   "source": [
    "# initialize kmeans with 3 centroids\n",
    "kmeans = KMeans(n_clusters=3, random_state=42)\n",
    "# fit the model\n",
    "kmeans.fit(X)\n",
    "# store cluster labels in a variable\n",
    "clusters = kmeans.labels_"
   ]
  },
  {
   "cell_type": "code",
   "execution_count": 357,
   "id": "de905c95-aa8a-460e-b650-ee9731e218b9",
   "metadata": {},
   "outputs": [
    {
     "data": {
      "text/plain": [
       "(787, 280)"
      ]
     },
     "execution_count": 357,
     "metadata": {},
     "output_type": "execute_result"
    }
   ],
   "source": [
    "X.shape"
   ]
  },
  {
   "cell_type": "code",
   "execution_count": 358,
   "id": "ab156073-de50-4101-a11a-8c9ebf5ba732",
   "metadata": {},
   "outputs": [],
   "source": [
    "# initialize PCA with 2 components\n",
    "pca = PCA(n_components=2, random_state=42)\n",
    "# pass our X to the pca and store the reduced vectors into pca_vecs\n",
    "pca_vecs = pca.fit_transform(X.toarray())\n",
    "# save our two dimensions into x0 and x1\n",
    "x0 = pca_vecs[:, 0]\n",
    "x1 = pca_vecs[:, 1]"
   ]
  },
  {
   "cell_type": "code",
   "execution_count": 359,
   "id": "2103e625-3f48-485d-bb92-c4b194a1c997",
   "metadata": {},
   "outputs": [],
   "source": [
    "#x0"
   ]
  },
  {
   "cell_type": "code",
   "execution_count": 360,
   "id": "dace8ec1-a47f-4d34-83bd-413f5adc3bc1",
   "metadata": {},
   "outputs": [],
   "source": [
    "#x1"
   ]
  },
  {
   "cell_type": "code",
   "execution_count": 361,
   "id": "9a2e5a29-901c-4588-9270-5150ea384aa9",
   "metadata": {},
   "outputs": [
    {
     "data": {
      "text/plain": [
       "(787,)"
      ]
     },
     "execution_count": 361,
     "metadata": {},
     "output_type": "execute_result"
    }
   ],
   "source": [
    "x0.shape"
   ]
  },
  {
   "cell_type": "code",
   "execution_count": 362,
   "id": "1b20bcf9-165b-4b9d-87d1-4d6187bedf4e",
   "metadata": {},
   "outputs": [
    {
     "data": {
      "text/plain": [
       "(787,)"
      ]
     },
     "execution_count": 362,
     "metadata": {},
     "output_type": "execute_result"
    }
   ],
   "source": [
    "x1.shape"
   ]
  },
  {
   "cell_type": "code",
   "execution_count": 363,
   "id": "5489ba4f-a384-41be-a546-cbe22056ab33",
   "metadata": {},
   "outputs": [],
   "source": [
    "# one point (x0, x1) for each text. This enables us to create a scatter chart."
   ]
  },
  {
   "cell_type": "code",
   "execution_count": 364,
   "id": "bbba785a-6b98-4e96-919c-84418e124c6f",
   "metadata": {},
   "outputs": [],
   "source": [
    "# assign clusters and pca vectors to our dataframe \n",
    "df['cluster'] = clusters\n",
    "df['x0'] = x0\n",
    "df['x1'] = x1"
   ]
  },
  {
   "cell_type": "code",
   "execution_count": 365,
   "id": "268e38da-ec58-4da4-8fdb-3655a7ea7789",
   "metadata": {},
   "outputs": [
    {
     "data": {
      "text/html": [
       "<div>\n",
       "<style scoped>\n",
       "    .dataframe tbody tr th:only-of-type {\n",
       "        vertical-align: middle;\n",
       "    }\n",
       "\n",
       "    .dataframe tbody tr th {\n",
       "        vertical-align: top;\n",
       "    }\n",
       "\n",
       "    .dataframe thead th {\n",
       "        text-align: right;\n",
       "    }\n",
       "</style>\n",
       "<table border=\"1\" class=\"dataframe\">\n",
       "  <thead>\n",
       "    <tr style=\"text-align: right;\">\n",
       "      <th></th>\n",
       "      <th>title</th>\n",
       "      <th>cleaned</th>\n",
       "      <th>cluster</th>\n",
       "      <th>x0</th>\n",
       "      <th>x1</th>\n",
       "    </tr>\n",
       "  </thead>\n",
       "  <tbody>\n",
       "    <tr>\n",
       "      <th>0</th>\n",
       "      <td>Improved Salient Object Extraction using Struc...</td>\n",
       "      <td>improved salient object extraction using struc...</td>\n",
       "      <td>2</td>\n",
       "      <td>-0.067549</td>\n",
       "      <td>-0.122619</td>\n",
       "    </tr>\n",
       "    <tr>\n",
       "      <th>1</th>\n",
       "      <td>Performance Analysis of LTE-Advanced Mobile Re...</td>\n",
       "      <td>performance analysis lte advanced mobile relay...</td>\n",
       "      <td>2</td>\n",
       "      <td>-0.062384</td>\n",
       "      <td>-0.037231</td>\n",
       "    </tr>\n",
       "    <tr>\n",
       "      <th>2</th>\n",
       "      <td>Analysis and Optimization of Magnetic Resonant...</td>\n",
       "      <td>analysis optimization magnetic resonant wirele...</td>\n",
       "      <td>2</td>\n",
       "      <td>-0.070203</td>\n",
       "      <td>-0.067255</td>\n",
       "    </tr>\n",
       "    <tr>\n",
       "      <th>3</th>\n",
       "      <td>Comparative Analysis of Cell Balancing Topolog...</td>\n",
       "      <td>comparative analysis cell balancing topologies...</td>\n",
       "      <td>2</td>\n",
       "      <td>-0.052966</td>\n",
       "      <td>-0.014516</td>\n",
       "    </tr>\n",
       "    <tr>\n",
       "      <th>4</th>\n",
       "      <td>GAN-Based Two-Step Pipeline for Real-World Ima...</td>\n",
       "      <td>gan based two step pipeline real world image s...</td>\n",
       "      <td>2</td>\n",
       "      <td>-0.078711</td>\n",
       "      <td>-0.131647</td>\n",
       "    </tr>\n",
       "  </tbody>\n",
       "</table>\n",
       "</div>"
      ],
      "text/plain": [
       "                                               title  \\\n",
       "0  Improved Salient Object Extraction using Struc...   \n",
       "1  Performance Analysis of LTE-Advanced Mobile Re...   \n",
       "2  Analysis and Optimization of Magnetic Resonant...   \n",
       "3  Comparative Analysis of Cell Balancing Topolog...   \n",
       "4  GAN-Based Two-Step Pipeline for Real-World Ima...   \n",
       "\n",
       "                                             cleaned  cluster        x0  \\\n",
       "0  improved salient object extraction using struc...        2 -0.067549   \n",
       "1  performance analysis lte advanced mobile relay...        2 -0.062384   \n",
       "2  analysis optimization magnetic resonant wirele...        2 -0.070203   \n",
       "3  comparative analysis cell balancing topologies...        2 -0.052966   \n",
       "4  gan based two step pipeline real world image s...        2 -0.078711   \n",
       "\n",
       "         x1  \n",
       "0 -0.122619  \n",
       "1 -0.037231  \n",
       "2 -0.067255  \n",
       "3 -0.014516  \n",
       "4 -0.131647  "
      ]
     },
     "execution_count": 365,
     "metadata": {},
     "output_type": "execute_result"
    }
   ],
   "source": [
    "df.head()"
   ]
  },
  {
   "cell_type": "code",
   "execution_count": 366,
   "id": "d2324df1-b417-478a-8acb-f0e042ac313d",
   "metadata": {},
   "outputs": [
    {
     "name": "stdout",
     "output_type": "stream",
     "text": [
      "\n",
      "Cluster 0\n",
      "sodip,legacy,towards,service,provider,defined,software,migration,ipv,network\n",
      "\n",
      "Cluster 1\n",
      "extraction,exchange,examination,feature,word,news,ioe,issue,vol,bulletin\n",
      "\n",
      "Cluster 2\n",
      "neural,networks,performance,network,detection,analysis,system,nepal,based,using\n"
     ]
    }
   ],
   "source": [
    "def get_top_keywords(n_terms):\n",
    "    \"\"\"This function returns the keywords for each centroid of the KMeans\"\"\"\n",
    "    df = pd.DataFrame(X.todense()).groupby(clusters).mean() # groups the TF-IDF vector by cluster\n",
    "    terms = vectorizer.get_feature_names_out() # access tf-idf terms\n",
    "    for i,r in df.iterrows():\n",
    "        print('\\nCluster {}'.format(i))\n",
    "        print(','.join([terms[t] for t in np.argsort(r)[-n_terms:]])) # for each row of the dataframe, find the n terms that have the highest tf idf score\n",
    "            \n",
    "get_top_keywords(10)"
   ]
  },
  {
   "cell_type": "code",
   "execution_count": 367,
   "id": "b2e0995e-f42d-40e3-92c4-acad5169ca02",
   "metadata": {},
   "outputs": [],
   "source": [
    "# map clusters to appropriate labels \n",
    "cluster_map = {\n",
    "                0: \"network and security\",\n",
    "                1:\"ioe news bulletin\",\n",
    "                2: \"neural network\",\n",
    "              }\n",
    "# apply mapping\n",
    "df['cluster'] = df['cluster'].map(cluster_map)"
   ]
  },
  {
   "cell_type": "code",
   "execution_count": 368,
   "id": "6b198633-cf63-4b85-9e88-cd1849f7d50c",
   "metadata": {},
   "outputs": [
    {
     "data": {
      "image/png": "[encoded data removed]",
      "text/plain": [
       "<Figure size 864x504 with 1 Axes>"
      ]
     },
     "metadata": {
      "needs_background": "light"
     },
     "output_type": "display_data"
    }
   ],
   "source": [
    "# set image size\n",
    "plt.figure(figsize=(12, 7))\n",
    "# set a title\n",
    "plt.title(\"title clustering\", fontdict={\"fontsize\": 18})\n",
    "# set axes names\n",
    "plt.xlabel(\"X0\", fontdict={\"fontsize\": 16})\n",
    "plt.ylabel(\"X1\", fontdict={\"fontsize\": 16})\n",
    "# create scatter plot with seaborn, where hue is the class used to group the data\n",
    "sns.scatterplot(data=df, x='x0', y='x1', hue='cluster')\n",
    "plt.show()"
   ]
  },
  {
   "cell_type": "code",
   "execution_count": null,
   "id": "436d993d-352a-41a3-af77-6ffc0467aab9",
   "metadata": {},
   "outputs": [],
   "source": []
  }
 ],
 "metadata": {
  "kernelspec": {
   "display_name": "Python 3 (ipykernel)",
   "language": "python",
   "name": "python3"
  },
  "language_info": {
   "codemirror_mode": {
    "name": "ipython",
    "version": 3
   },
   "file_extension": ".py",
   "mimetype": "text/x-python",
   "name": "python",
   "nbconvert_exporter": "python",
   "pygments_lexer": "ipython3",
   "version": "3.9.9"
  }
 },
 "nbformat": 4,
 "nbformat_minor": 5
}
